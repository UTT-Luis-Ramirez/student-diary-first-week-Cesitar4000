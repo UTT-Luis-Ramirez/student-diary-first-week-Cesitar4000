{
  "nbformat": 4,
  "nbformat_minor": 0,
  "metadata": {
    "colab": {
      "provenance": []
    },
    "kernelspec": {
      "name": "python3",
      "display_name": "Python 3"
    },
    "language_info": {
      "name": "python"
    }
  },
  "cells": [
    {
      "cell_type": "code",
      "execution_count": null,
      "metadata": {
        "id": "8PciSt0V-Nbq"
      },
      "outputs": [],
      "source": []
    },
    {
      "cell_type": "markdown",
      "source": [
        "Término:\n",
        "1. Probabilidad\n",
        "2. Estadística\n",
        "3. Dato\n",
        "4. Evento\n",
        "5. Axiomas\n",
        "\n",
        "¿Qué sé?\n",
        "1. Sé que la probabilidad es el porcentaje de que suceda un evento o de que un evento acabe de una u otra forma.\n",
        "2. La estadística estudia la probabilidad, o la variación de algún evento aleatorio según el estudio de la probabilidad.\n",
        "3. El dato es el registro de algún evento ya ocurrido.\n",
        "4. El evento es como lo que una función de cálculo diferencial hace, es un suceso con posibles resultados.\n",
        "5. No sé qué quiere decir \"axiomas\".\n",
        "\n",
        "¿Qué quiero saber?\n",
        "1. Me gustaría saber la definición exacta de la probabilidad para la materia.\n",
        "2. También me gustaría saber la definición exacta de estadística, y cómo es aplicada en nuestra vida o en los entornos que usamos o estamos.\n",
        "3. Me gustaría saber exactamente la definición de dato en la materia.\n",
        "4. Me gustaría saber también la definición de evento en la materia.\n",
        "5. Me gustaría conocer la definición general de axiomas y cómo aplica en la materia.\n",
        "\n",
        "\n",
        "\n",
        "# Estadística descriptiva\n",
        "Para comprender mejor esta definición podemos desglosarla en dos funciones:\n",
        "\n",
        "**Recolección y organización de datos:** Comienza con la recolección de datos relevantes para el estudio. Luego, estos datos se organizan en tablas, gráficos y otras formas que facilitan su analisis.\n",
        "\n",
        "**Cálculo de medidas descriptivas:** Se utilizan diversas medidas para resumir los datos, como medidas de tendencia central (media, mediana, moda), medidas de dispersión (desviación, estándar, rango, varianza) y medidas de forma (asimetría, curtosis).\n",
        "\n",
        "# Estadística inferencial\n",
        "\n",
        "1. **Predicción de la demanda de recursos:** Se utilizan modelos estadísticos para predecir la futura demanda de recursos de TL, como servidores, almacenamiento y ancho de banda. Estas predicciones ayudan a planificar la capacidad y garantizar que los recursos estén disponibles cuando se necesiten.\n",
        "\n",
        "2. **Detección de anomalías de seguridad:** Se utilizan métodos estadísticos para detectar patrones inusuales en los datos de seguridad, como inicios de sesion sospechosos o tráfico de red anómalo. Estas detecciones ayudan a identificar posibles amenazas de seguridad y tomar medidas para mitigarlas.\n",
        "\n",
        "3. **Pruebas A/B para la optimización del rendimiento:** Se utilizan pruebas A/B para comparar diferentes versiones de un sitio web a una aplicación y determinar cuál funciona mejor. La estadística inferencial se utiliza para analizar los resultados de las pruebas y determinar si las diferencias observadas son estadísticamente significativas.\n",
        "\n",
        "4. **Analisis de la opinión de los usuarios:** Se utilizan métodos de análisis de texto y aprendizaje automático para analizar los comentarios de los usuarios en las redes sociales, los foros y otras plataformas. La estadística inferencial se utiliza para extraer información sobre la opinión de los usuarios y comprender las necesidades y preferencias de los clientes."
      ],
      "metadata": {
        "id": "w3hPxYKE-XJR"
      }
    }
  ]
}